{
 "cells": [
  {
   "cell_type": "code",
   "execution_count": null,
   "metadata": {},
   "outputs": [],
   "source": [
    "from bs4 import BeautifulSoup\n",
    "import json\n",
    "import requests\n",
    "import pandas as pd"
   ]
  },
  {
   "cell_type": "markdown",
   "metadata": {},
   "source": [
    "## scrape tickers from yahoo finance"
   ]
  },
  {
   "cell_type": "code",
   "execution_count": null,
   "metadata": {},
   "outputs": [],
   "source": [
    "websites = [\"https://finance.yahoo.com/world-indices/\",\n",
    "            #\"https://finance.yahoo.com/etfs/\"\n",
    "            ]\n",
    "\n",
    "# index_info = {}\n",
    "index_info = pd.DataFrame(columns=['Ticker', 'Name'])\n",
    "\n",
    "for website in websites:\n",
    "    r = requests.get(website)\n",
    "    r.content\n",
    "\n",
    "    # Use the 'html.parser' to parse the page\n",
    "    soup = BeautifulSoup(r.content, 'html.parser')\n",
    "\n",
    "    # Find the table with the columns: ticker and Name\n",
    "    table = soup.find('table')\n",
    "    if table:\n",
    "        table_body = table.find('tbody')\n",
    "        rows = table_body.find_all('tr')\n",
    "        for row in rows:\n",
    "            cols = row.find_all('td')\n",
    "            print(f\"Cols: {cols[0].text}\")\n",
    "            cols = [ele.text for ele in cols]\n",
    "            # index_info[cols[0]] = cols[1]\n",
    "            index_info.loc[len(index_info)] = [cols[0], cols[1:]]\n",
    "\n",
    "# print(json.dumps(index_info, indent=4))\n",
    "print(index_info)"
   ]
  },
  {
   "cell_type": "markdown",
   "metadata": {},
   "source": [
    "## get stock tickers from nasdaq"
   ]
  },
  {
   "cell_type": "code",
   "execution_count": null,
   "metadata": {},
   "outputs": [],
   "source": [
    "import ftplib"
   ]
  },
  {
   "cell_type": "code",
   "execution_count": null,
   "metadata": {},
   "outputs": [],
   "source": [
    "filenames = [\"nasdaqlisted.txt\", \"otherlisted.txt\"]\n",
    "\n",
    "ftp_server = ftplib.FTP(\"ftp.nasdaqtrader.com\")\n",
    "ftp_server.login()\n",
    "ftp_server.encoding = 'utf-8'\n",
    "\n",
    "ftp_server.cwd(\"SymbolDirectory\")\n",
    "ftp_server.dir()\n",
    "\n",
    "for filename in filenames:\n",
    "    with open(filename, 'wb') as file:\n",
    "        ftp_server.retrbinary('RETR ' + filename, file.write)\n",
    "\n",
    "ftp_server.quit()"
   ]
  },
  {
   "cell_type": "code",
   "execution_count": null,
   "metadata": {},
   "outputs": [],
   "source": [
    "otherlisted = pd.read_csv(\"otherlisted.txt\", sep='|')\n",
    "nasdaqlisted = pd.read_csv(\"nasdaqlisted.txt\", sep='|')\n",
    "\n",
    "print(otherlisted.head())"
   ]
  },
  {
   "cell_type": "code",
   "execution_count": null,
   "metadata": {},
   "outputs": [],
   "source": [
    "otherlisted[otherlisted['ETF'] == 'Y']"
   ]
  },
  {
   "cell_type": "code",
   "execution_count": null,
   "metadata": {},
   "outputs": [],
   "source": [
    "# find a stock in the df's\n",
    "stock_name = 'msci'\n",
    "\n",
    "def find_stock(stock_name, stock_data):\n",
    "    # drop na values\n",
    "    stock_data.dropna(inplace=True)\n",
    "    \n",
    "    print(stock_data[stock_data['Security Name'].str.contains(stock_name, case=False)])\n",
    "    print(\"\\n\")\n",
    "\n",
    "find_stock(stock_name, otherlisted)\n",
    "find_stock(stock_name, nasdaqlisted)"
   ]
  },
  {
   "cell_type": "code",
   "execution_count": null,
   "metadata": {},
   "outputs": [],
   "source": [
    "otherlisted_clean = otherlisted.dropna(subset=['Security Name'])\n",
    "otherlisted_clean[otherlisted_clean['Security Name'].str.contains('World')]"
   ]
  },
  {
   "cell_type": "markdown",
   "metadata": {},
   "source": [
    "## SymbolProvider"
   ]
  },
  {
   "cell_type": "code",
   "execution_count": null,
   "metadata": {},
   "outputs": [],
   "source": [
    "from mc_simulation.data_provider import SymbolReader"
   ]
  },
  {
   "cell_type": "code",
   "execution_count": null,
   "metadata": {},
   "outputs": [],
   "source": [
    "provider = SymbolReader([\"../jupyter_notebooks/otherlisted.txt\", \"../jupyter_notebooks/nasdaqlisted.txt\"])\n",
    "symbols = provider.read_symbols()\n",
    "symbols = provider.process_symbols(symbols)\n",
    "print(symbols)"
   ]
  }
 ],
 "metadata": {
  "kernelspec": {
   "display_name": ".venv",
   "language": "python",
   "name": "python3"
  },
  "language_info": {
   "codemirror_mode": {
    "name": "ipython",
    "version": 3
   },
   "file_extension": ".py",
   "mimetype": "text/x-python",
   "name": "python",
   "nbconvert_exporter": "python",
   "pygments_lexer": "ipython3",
   "version": "3.11.5"
  }
 },
 "nbformat": 4,
 "nbformat_minor": 2
}
