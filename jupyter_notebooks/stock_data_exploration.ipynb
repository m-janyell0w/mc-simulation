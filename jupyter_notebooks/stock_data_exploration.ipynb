{
 "cells": [
  {
   "cell_type": "code",
   "execution_count": null,
   "metadata": {},
   "outputs": [],
   "source": [
    "import pandas as pd\n",
    "import seaborn as sns\n",
    "import scipy.stats as stats\n",
    "import yfinance as yf"
   ]
  },
  {
   "cell_type": "code",
   "execution_count": null,
   "metadata": {},
   "outputs": [],
   "source": [
    "ticker_Symbol = 'URTH'\n",
    "start = '2010-01-01'\n",
    "end = '2024-03-01'\n",
    "\n",
    "def get_data(ticker_Symbol, start, end, freq='1d'):\n",
    "    \"\"\"\n",
    "    Get stock data from Yahoo Finance for a given stock ticker symbol and date range\n",
    "    :param ticker_Symbol: str: stock ticker symbol\n",
    "    :param start: str: start date\n",
    "    :param end: str: end date\n",
    "    :param freq: str: frequency of data\n",
    "    :return: pd.DataFrame: stock data\n",
    "    \"\"\"\n",
    "    ticker_data = yf.Ticker(ticker_Symbol)\n",
    "    ticker_df = ticker_data.history(period=freq, start=start, end=end)\n",
    "    # get ticker info\n",
    "    ticker_info = ticker_data.info\n",
    "    return ticker_df, ticker_info\n",
    "\n",
    "ticker_df, ticker_info = get_data(ticker_Symbol, start, end)\n",
    "print(ticker_info)\n",
    "ticker_df[\"returns\"] = ticker_df[\"Close\"].pct_change()"
   ]
  },
  {
   "cell_type": "code",
   "execution_count": null,
   "metadata": {},
   "outputs": [],
   "source": [
    "ticker_df[\"returns\"].plot(figsize=(12, 7), title=f\"{ticker_Symbol} Returns\")"
   ]
  },
  {
   "cell_type": "code",
   "execution_count": null,
   "metadata": {},
   "outputs": [],
   "source": [
    "sns.distplot(ticker_df['returns'], hist=True, kde=True, bins=30, color='blue', hist_kws={'edgecolor': 'black'}, kde_kws={'linewidth': 4})"
   ]
  },
  {
   "cell_type": "code",
   "execution_count": null,
   "metadata": {},
   "outputs": [],
   "source": [
    "returns.describe()"
   ]
  },
  {
   "cell_type": "code",
   "execution_count": null,
   "metadata": {},
   "outputs": [],
   "source": [
    "# boxplot of returns\n",
    "# sns.boxplot(data=ticker_df['returns'], orient='h', color='blue')\n",
    "\n",
    "# replace returns that are greater than the 95th percentile with the 95th percentile value\n",
    "returns = ticker_df['returns']\n",
    "returns_clean = returns.copy()\n",
    "outlier_threshold = 0.01\n",
    "returns_clean[returns_clean > returns_clean.quantile(1-outlier_threshold)] = returns_clean.quantile(1-outlier_threshold)\n",
    "returns_clean[returns_clean < returns_clean.quantile(outlier_threshold)] = returns_clean.quantile(outlier_threshold)\n",
    "\n",
    "sns.boxplot(data=returns_clean, orient='h', color='blue')\n",
    "returns_clean.describe()"
   ]
  },
  {
   "cell_type": "markdown",
   "metadata": {},
   "source": [
    "## are returns normally distributed?\n",
    "\n",
    "scipy.stats.normaltest:\n",
    "- H_0: The sample comes from a normal distribution\n",
    "\n",
    "Returns:\n",
    "\n",
    "    statistic: float or array\n",
    "\n",
    "        s^2 + k^2, where s is the z-score returned by skewtest and k is the z-score returned by kurtosistest.\n",
    "        Because the normal distribution has zero skewness and zero (“excess” or “Fisher”) kurtosis, the value of this statistic tends to be low for samples drawn from a normal distribution.\n",
    "    \n",
    "    pvalue: float or array\n",
    "\n",
    "        A 2-sided chi squared probability for the hypothesis test.\n",
    "\n"
   ]
  },
  {
   "cell_type": "code",
   "execution_count": null,
   "metadata": {},
   "outputs": [],
   "source": [
    "# are returns normally distributed?\n",
    "# normaltest_result = stats.normaltest(ticker_df['returns'].dropna())\n",
    "normaltest_result = stats.normaltest(returns_clean.dropna())\n",
    "print(normaltest_result)"
   ]
  },
  {
   "cell_type": "markdown",
   "metadata": {},
   "source": [
    "### interpretation\n",
    "\n",
    "- The statistic is quite high, which points to a higher kurtosis and skweness of the sample distribution\n",
    "- The pvalue is very close to zero, i.e. the probability of having a statistic as extreme as this when sampling from the null distribution (normal dist) is basically zero!\n",
    "=> The null hypothesis can be rejected: The sample is most likely not normally distributed\n",
    "\n",
    "Even after handling the most extreme 1 percent above at both ends of the distribution, the result stays (even if less extreme)"
   ]
  }
 ],
 "metadata": {
  "kernelspec": {
   "display_name": ".venv",
   "language": "python",
   "name": "python3"
  },
  "language_info": {
   "codemirror_mode": {
    "name": "ipython",
    "version": 3
   },
   "file_extension": ".py",
   "mimetype": "text/x-python",
   "name": "python",
   "nbconvert_exporter": "python",
   "pygments_lexer": "ipython3",
   "version": "3.11.5"
  }
 },
 "nbformat": 4,
 "nbformat_minor": 2
}
