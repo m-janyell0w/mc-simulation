{
 "cells": [
  {
   "cell_type": "code",
   "execution_count": null,
   "metadata": {},
   "outputs": [],
   "source": [
    "import matplotlib.pyplot as plt\n",
    "import numpy as np\n",
    "import pandas as pd\n",
    "import plotly.express as px\n",
    "import plotly.graph_objects as go\n",
    "import seaborn as sns\n",
    "import scipy.stats as stats\n",
    "import yfinance as yf\n",
    "\n",
    "from mc_simulation import MonteCarloSimulation"
   ]
  },
  {
   "cell_type": "code",
   "execution_count": null,
   "metadata": {},
   "outputs": [],
   "source": [
    "ticker_Symbol = 'URTH'\n",
    "start = '2010-01-01'\n",
    "end = '2024-03-01'\n",
    "num_simulation = 1000\n",
    "num_days = 252 * 5 # 5 years\n",
    "initial_investment = 0\n",
    "saving_per_month = 300"
   ]
  },
  {
   "cell_type": "code",
   "execution_count": null,
   "metadata": {},
   "outputs": [],
   "source": [
    "simu = MonteCarloSimulation(ticker_Symbol, start, end, num_simulation, num_days, initial_investment, saving_per_month)\n",
    "results = simu.run_simulation()"
   ]
  },
  {
   "cell_type": "code",
   "execution_count": null,
   "metadata": {},
   "outputs": [],
   "source": [
    "# Plot the simulation results using plotly\n",
    "\n",
    "x_val = np.arange(results.shape[1])\n",
    "fig = go.Figure()\n",
    "for i in range(0, num_simulation, 10):\n",
    "    fig.add_trace(go.Scatter(x=x_val, y=results[i, :], mode='lines', name='Simulation '+str(i)))\n",
    "fig.add_trace(go.Scatter(x=x_val, y=np.mean(results, axis=0), mode='lines', name='Mean', line=dict(color='black', width=3)))\n",
    "fig.add_trace(go.Scatter(x=x_val, y=np.percentile(results, 5, axis=0), mode='lines', name='5th Percentile', line=dict(color='red', width=1)))\n",
    "fig.add_trace(go.Scatter(x=x_val, y=np.percentile(results, 95, axis=0), mode='lines', name='95th Percentile', line=dict(color='red', width=1)))\n",
    "fig.update_xaxes(tickvals=np.arange(0, num_days, 252), ticktext=np.arange(0, num_days//252))\n",
    "fig.update_layout(title=f'Monte Carlo Simulation: {ticker_Symbol}', xaxis_title='Years', yaxis_title='Portfolio Sum')\n",
    "fig.show()\n"
   ]
  },
  {
   "cell_type": "code",
   "execution_count": null,
   "metadata": {},
   "outputs": [],
   "source": [
    "total_monthly_savings = saving_per_month * num_days//22\n",
    "total_investment = initial_investment + total_monthly_savings\n",
    "\n",
    "# Show the distribution of the final portfolio value\n",
    "print('############# Monte Carlo Simulation Summary ##############')\n",
    "print('Initial Investment:', initial_investment)\n",
    "print(f'Total Monthly Savings over {num_days//22} months:', total_monthly_savings)\n",
    "print(f'Total Investment over {num_days//22} months:', total_investment)\n",
    "\n",
    "# proportion of simulations that made a profit\n",
    "profitable_simulations = results[:, -1] > total_investment\n",
    "print('Proportion of profitable simulations:', np.mean(profitable_simulations), '\\n')\n",
    "\n",
    "final_portfolio_values = results[:, -1]\n",
    "\n",
    "print('############# Final Portfolio Value Statistics ##############')\n",
    "print('Mean:', np.mean(final_portfolio_values))\n",
    "print('Median:', np.median(final_portfolio_values))\n",
    "print('5th Percentile:', np.percentile(final_portfolio_values, 5))\n",
    "print('95th Percentile:', np.percentile(final_portfolio_values, 95))\n",
    "print('Standard Deviation:', np.std(final_portfolio_values))\n",
    "\n",
    "sns.histplot(final_portfolio_values, kde=True)\n",
    "plt.xlabel('Portfolio Value')\n",
    "plt.ylabel('Frequency')"
   ]
  },
  {
   "cell_type": "code",
   "execution_count": null,
   "metadata": {},
   "outputs": [],
   "source": [
    "# subtract the saving_rate for each month and each simulation to calculate returns\n",
    "saving_rate = saving_per_month\n",
    "returns = results.copy()\n",
    "for i in range(num_simulation):\n",
    "    for j in range(num_days):\n",
    "        if j % 22 == 0:\n",
    "            returns[i, j] -= saving_rate\n",
    "returns"
   ]
  },
  {
   "cell_type": "code",
   "execution_count": null,
   "metadata": {},
   "outputs": [],
   "source": [
    "yearly_returns = pd.DataFrame(returns.T, index=range(num_days+1), columns=[f'simulation_{i}' for i in range(num_simulation)])\n",
    "yearly_returns.loc[len(yearly_returns)] = yearly_returns.iloc[len(yearly_returns)-1]\n",
    "print(yearly_returns.shape)\n",
    "# to compute the yearly returns, we need to compute the cumulative returns for 252 consecutive days for each simulation\n",
    "yearly_returns = yearly_returns.pct_change().dropna()\n",
    "yearly_returns = yearly_returns.rolling(252).sum()\n",
    "yearly_returns = yearly_returns.iloc[::252, :].dropna()\n",
    "yearly_returns.index.name = 'Year'\n",
    "yearly_returns.index = (yearly_returns.index + 1)//252\n",
    "\n",
    "print(yearly_returns.shape)\n",
    "print(f'Average yearly return: {yearly_returns}')\n",
    "\n",
    "average_yearly_returns = yearly_returns.mean(axis=0)\n",
    "print(average_yearly_returns.shape)"
   ]
  },
  {
   "cell_type": "code",
   "execution_count": null,
   "metadata": {},
   "outputs": [],
   "source": [
    "# Show the distribution of the yearly returns\n",
    "sns.histplot(average_yearly_returns, kde=True)\n",
    "plt.xlabel('Average yearly returns')\n",
    "plt.ylabel('Frequency')"
   ]
  }
 ],
 "metadata": {
  "kernelspec": {
   "display_name": ".venv",
   "language": "python",
   "name": "python3"
  },
  "language_info": {
   "codemirror_mode": {
    "name": "ipython",
    "version": 3
   },
   "file_extension": ".py",
   "mimetype": "text/x-python",
   "name": "python",
   "nbconvert_exporter": "python",
   "pygments_lexer": "ipython3",
   "version": "3.11.5"
  }
 },
 "nbformat": 4,
 "nbformat_minor": 2
}
